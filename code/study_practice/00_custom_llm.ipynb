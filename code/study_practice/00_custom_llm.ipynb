{
 "cells": [
  {
   "cell_type": "markdown",
   "id": "d8c50ffd",
   "metadata": {},
   "source": [
    "### 나만 아는 정보를 알고있는 GPT 모델 만들기"
   ]
  },
  {
   "cell_type": "code",
   "execution_count": 12,
   "id": "bf49430f",
   "metadata": {},
   "outputs": [],
   "source": [
    "# 외부 라이브러리 불러오기\n",
    "from openai import OpenAI\n",
    "from dotenv import load_dotenv\n",
    "import openai\n",
    "import os"
   ]
  },
  {
   "cell_type": "code",
   "execution_count": 13,
   "id": "ef0267fe",
   "metadata": {},
   "outputs": [],
   "source": [
    "# 환경 변수 로드(env 파일에 저장된 키 불러오기)\n",
    "load_dotenv()\n",
    "api_key = os.getenv('OPENAI_API_KEY')\n",
    "openai.api_key = api_key"
   ]
  },
  {
   "cell_type": "code",
   "execution_count": 14,
   "id": "2a45b277",
   "metadata": {},
   "outputs": [],
   "source": [
    "# 나만 알고있는 정보를 넘겨보자\n",
    "context = '''\n",
    "내가 2달간 지켜본 대한상공회의소 부산인력개발원에는 다양한 사람들이 있다.\n",
    "한명한명 소개해보려 한다.\n",
    "\n",
    "류형주 원장님, 웃음이 많으시다. 말씀도 많으시다. 곧 또 웃으며 말씀을 하실 예정이시다.\n",
    "이창형 처장님, 뵐때마다 황정민을 닮으신 것 같다. 걸어다니실 때 소리가 나질 않는다.\n",
    "이대열 팀장님, 모르는 사람이 보면 친구 처럼 보일정도의 동안이다. 친구처럼 보인다고 친구 처럼 대하지 말아야 한다.\n",
    "인준호 팀장님, 부산인력개발원에서 일어나는 모든 일을 다 알고있다. 모닝에 타고계실 때 조금 귀엽다.\n",
    "김영석 교수님, 내 머리속에 부산사나이하면 떠오르는 이미지의 표본이다. 정도 많으시고 열정적이다.\n",
    "'''"
   ]
  },
  {
   "cell_type": "code",
   "execution_count": 16,
   "id": "edf8969b",
   "metadata": {},
   "outputs": [
    {
     "name": "stdout",
     "output_type": "stream",
     "text": [
      "이창형 처장님은 부산인력개발원에서 중요한 역할을 맡고 계신 분으로 보입니다. 그를 처음 만났을 때 황정민을 닮았다고 느꼈고, 그의 존재감과 분위기가 인상 깊었던 것 같습니다. 또한, 그의 걸음걸이가 조용해 주변에 소음을 주지 않는 모습이 특징적인 것 같네요. 이는 이창형 처장님이 내성적이거나 신중한 성격일 수 있음을 나타내기도 합니다. 총체적으로 그의 외모와 행동에서 차분하면서도 자신감 있는 모습이 느껴지며, 주변 사람들에게 긍정적인 영향을 미치는 분으로 판단됩니다.\n"
     ]
    }
   ],
   "source": [
    "# 리스폰스 모델 설정\n",
    "response = openai.chat.completions.create(\n",
    "    model=\"gpt-4o-mini\",\n",
    "    messages=[\n",
    "        {\"role\": \"system\", \"content\": context},\n",
    "        {\"role\": \"user\", \"content\": \"이창형 처장님에 대해 알려줘\"},\n",
    "    ],\n",
    "    temperature=0.9,\n",
    ")\n",
    "\n",
    "print(response.choices[0].message.content) "
   ]
  },
  {
   "cell_type": "code",
   "execution_count": null,
   "id": "3a4b793f",
   "metadata": {},
   "outputs": [],
   "source": []
  }
 ],
 "metadata": {
  "kernelspec": {
   "display_name": "venv",
   "language": "python",
   "name": "python3"
  },
  "language_info": {
   "codemirror_mode": {
    "name": "ipython",
    "version": 3
   },
   "file_extension": ".py",
   "mimetype": "text/x-python",
   "name": "python",
   "nbconvert_exporter": "python",
   "pygments_lexer": "ipython3",
   "version": "3.10.9"
  }
 },
 "nbformat": 4,
 "nbformat_minor": 5
}
