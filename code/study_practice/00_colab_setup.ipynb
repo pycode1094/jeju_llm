{
  "cells": [
    {
      "cell_type": "markdown",
      "metadata": {},
      "source": [
        "# 🚀 제주 LLM 실습환경 설정 (Google Colab)\n",
        "\n",
        "이 노트북을 실행하면 Google Colab에서 바로 실습할 수 있습니다!\n",
        "\n",
        "## 📋 실행 순서\n",
        "1. 아래 셀들을 순서대로 실행하세요\n",
        "2. OpenAI API 키를 입력하세요\n",
        "3. 실습을 시작하세요!\n"
      ]
    },
    {
      "cell_type": "code",
      "execution_count": null,
      "metadata": {},
      "outputs": [],
      "source": [
        "# 필요한 패키지 설치\n",
        "%pip install openai python-dotenv streamlit gradio fastapi uvicorn requests pandas numpy matplotlib seaborn plotly yfinance jinja2 aiofiles python-multipart pydantic pymupdf colorama rich tqdm tabulate openpyxl\n",
        "\n",
        "print(\"✅ 모든 패키지 설치 완료!\")\n"
      ]
    },
    {
      "cell_type": "code",
      "execution_count": null,
      "metadata": {},
      "outputs": [],
      "source": [
        "import os\n",
        "from getpass import getpass\n",
        "\n",
        "# OpenAI API 키 설정\n",
        "api_key = getpass(\"OpenAI API 키를 입력하세요: \")\n",
        "os.environ['OPENAI_API_KEY'] = api_key\n",
        "\n",
        "print(\"✅ API 키가 설정되었습니다!\")\n",
        "print(\"이제 실습을 시작할 수 있습니다.\")\n"
      ]
    },
    {
      "cell_type": "code",
      "execution_count": null,
      "metadata": {},
      "outputs": [],
      "source": [
        "# OpenAI 연결 테스트\n",
        "from openai import OpenAI\n",
        "\n",
        "client = OpenAI(api_key=os.environ['OPENAI_API_KEY'])\n",
        "\n",
        "try:\n",
        "    response = client.chat.completions.create(\n",
        "        model=\"gpt-3.5-turbo\",\n",
        "        messages=[{\"role\": \"user\", \"content\": \"안녕하세요!\"}],\n",
        "        max_tokens=50\n",
        "    )\n",
        "    print(\"✅ OpenAI 연결 성공!\")\n",
        "    print(f\"응답: {response.choices[0].message.content}\")\n",
        "except Exception as e:\n",
        "    print(f\"❌ OpenAI 연결 실패: {e}\")\n"
      ]
    },
    {
      "cell_type": "markdown",
      "metadata": {},
      "source": [
        "## 🎉 설정 완료!\n",
        "\n",
        "이제 다른 실습 노트북들을 실행할 수 있습니다:\n",
        "\n",
        "1. **기본 프롬프트 실습**: `01_practice.ipynb`\n",
        "2. **PDF 에이전트**: `02_PDF_agent.ipynb`\n",
        "3. **이미지 프롬프터**: `03_Image_prompter.ipynb`\n",
        "4. **금융 데이터 분석**: `04_LLM_finance.ipynb`\n",
        "\n",
        "### 💡 팁\n",
        "- 각 노트북을 실행하기 전에 이 셀들을 먼저 실행하세요\n",
        "- API 키는 세션이 끝나면 사라지므로, 새로 시작할 때마다 다시 입력해야 합니다\n"
      ]
    }
  ],
  "metadata": {
    "language_info": {
      "name": "python"
    }
  },
  "nbformat": 4,
  "nbformat_minor": 2
}
